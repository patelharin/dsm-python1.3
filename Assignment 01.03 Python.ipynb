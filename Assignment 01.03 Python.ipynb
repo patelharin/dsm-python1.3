{
 "cells": [
  {
   "cell_type": "code",
   "execution_count": 1,
   "metadata": {},
   "outputs": [
    {
     "name": "stdout",
     "output_type": "stream",
     "text": [
      "Patel  Harin\n"
     ]
    }
   ],
   "source": [
    "# Assignment 1.3 Accept first & Last name\n",
    "# Program to get user input for first and last name and print last name first name\n",
    "\n",
    "# To take input from user\n",
    "first_name = input(\"Enter First Name:\")\n",
    "last_name = input(\"Enter Last Name:\")\n",
    "\n",
    "# Print the Last name First Name\n",
    "print(last_name,\"\",first_name)"
   ]
  },
  {
   "cell_type": "code",
   "execution_count": null,
   "metadata": {},
   "outputs": [],
   "source": []
  },
  {
   "cell_type": "code",
   "execution_count": null,
   "metadata": {},
   "outputs": [],
   "source": []
  }
 ],
 "metadata": {
  "kernelspec": {
   "display_name": "Python 3",
   "language": "python",
   "name": "python3"
  },
  "language_info": {
   "codemirror_mode": {
    "name": "ipython",
    "version": 3
   },
   "file_extension": ".py",
   "mimetype": "text/x-python",
   "name": "python",
   "nbconvert_exporter": "python",
   "pygments_lexer": "ipython3",
   "version": "3.6.4"
  }
 },
 "nbformat": 4,
 "nbformat_minor": 2
}
