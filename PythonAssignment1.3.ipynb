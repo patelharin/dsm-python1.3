{
 "cells": [
  {
   "cell_type": "code",
   "execution_count": 2,
   "metadata": {},
   "outputs": [
    {
     "name": "stdout",
     "output_type": "stream",
     "text": [
      " No   Seq\n",
      "  1   0\n",
      "  2   1\n",
      "  3   1\n",
      "  4   2\n",
      "  5   3\n",
      "  6   5\n",
      "  7   8\n",
      "  8  13\n",
      "  9  21\n",
      " 10  34\n"
     ]
    }
   ],
   "source": [
    "# First Test Program - Harin Patel\n",
    "# Fibonacci sequence\n",
    "# Intialize variables\n",
    "n = 10\n",
    "i = 1\n",
    "a = 0\n",
    "b = 1\n",
    "x=\" \"\n",
    "y=\" \"\n",
    "print(\" No   Seq\")\n",
    "while i <= n:\n",
    "# to add some formatting    \n",
    "    if i > 9:\n",
    "        x = \"\"\n",
    "    if a>9:\n",
    "        y = \"\"\n",
    "# Print Output Sr. No and sequence\n",
    "    print(x,i,y,a)\n",
    "    c = a + b\n",
    "    i = i + 1\n",
    "    a = b\n",
    "    b = c\n"
   ]
  },
  {
   "cell_type": "code",
   "execution_count": null,
   "metadata": {},
   "outputs": [],
   "source": [
    "# Assignment 1.2 Accept first & Last name\n",
    "first_name = input(\"Enter First Name:\")\n",
    "last_name = input(\"Enter Last Name:\")\n",
    "print(last_name,\"\",first_name)"
   ]
  }
 ],
 "metadata": {
  "kernelspec": {
   "display_name": "Python 3",
   "language": "python",
   "name": "python3"
  },
  "language_info": {
   "codemirror_mode": {
    "name": "ipython",
    "version": 3
   },
   "file_extension": ".py",
   "mimetype": "text/x-python",
   "name": "python",
   "nbconvert_exporter": "python",
   "pygments_lexer": "ipython3",
   "version": "3.6.4"
  }
 },
 "nbformat": 4,
 "nbformat_minor": 2
}
